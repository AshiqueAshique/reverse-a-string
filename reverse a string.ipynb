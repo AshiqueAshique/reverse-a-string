{
 "cells": [
  {
   "cell_type": "code",
   "execution_count": 1,
   "id": "fdb24220",
   "metadata": {},
   "outputs": [
    {
     "name": "stdout",
     "output_type": "stream",
     "text": [
      "dcba4321"
     ]
    }
   ],
   "source": [
    "def reverse(s):                 #function to reverse a string\n",
    "    for i in range((len(s)-1),-1,-1):\n",
    "        print(s[i], end = \"\")\n",
    "\n",
    "s = \"1234abcd\"\n",
    "reverse(s)          #function calling"
   ]
  },
  {
   "cell_type": "code",
   "execution_count": null,
   "id": "0861f780",
   "metadata": {},
   "outputs": [],
   "source": []
  }
 ],
 "metadata": {
  "kernelspec": {
   "display_name": "Python 3",
   "language": "python",
   "name": "python3"
  },
  "language_info": {
   "codemirror_mode": {
    "name": "ipython",
    "version": 3
   },
   "file_extension": ".py",
   "mimetype": "text/x-python",
   "name": "python",
   "nbconvert_exporter": "python",
   "pygments_lexer": "ipython3",
   "version": "3.8.8"
  }
 },
 "nbformat": 4,
 "nbformat_minor": 5
}
