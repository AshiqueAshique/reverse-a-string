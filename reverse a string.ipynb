{
 "cells": [
  {
   "cell_type": "code",
   "execution_count": 3,
   "id": "31e33afa",
   "metadata": {},
   "outputs": [
    {
     "name": "stdout",
     "output_type": "stream",
     "text": [
      "Reverse of the string is:  dReverse of the string is:  cReverse of the string is:  bReverse of the string is:  aReverse of the string is:  4Reverse of the string is:  3Reverse of the string is:  2Reverse of the string is:  1"
     ]
    }
   ],
   "source": [
    "def reverse(s):\n",
    "    for i in range((len(s)-1),-1,-1):\n",
    "        print(\"Reverse of the string is: \",s[i], end = \"\")\n",
    "\n",
    "s = \"1234abcd\"\n",
    "reverse(s)"
   ]
  },
  {
   "cell_type": "code",
   "execution_count": null,
   "id": "ba088d06",
   "metadata": {},
   "outputs": [],
   "source": []
  }
 ],
 "metadata": {
  "kernelspec": {
   "display_name": "Python 3",
   "language": "python",
   "name": "python3"
  },
  "language_info": {
   "codemirror_mode": {
    "name": "ipython",
    "version": 3
   },
   "file_extension": ".py",
   "mimetype": "text/x-python",
   "name": "python",
   "nbconvert_exporter": "python",
   "pygments_lexer": "ipython3",
   "version": "3.8.8"
  }
 },
 "nbformat": 4,
 "nbformat_minor": 5
}
