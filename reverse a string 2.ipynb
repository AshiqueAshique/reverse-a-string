{
 "cells": [
  {
   "cell_type": "markdown",
   "id": "bb243b0e",
   "metadata": {},
   "source": [
    "Python program to reverse a string."
   ]
  },
  {
   "cell_type": "code",
   "execution_count": 1,
   "id": "037ac5cb",
   "metadata": {},
   "outputs": [],
   "source": [
    "def reverse(s):       #function to reverse a given string\n",
    "    rev_s = \"\"        # variable to store the reversed string\n",
    "    for i  in range((len(s)-1),-1,-1):     \n",
    "        rev_s += s[i]\n",
    "    return rev_s"
   ]
  },
  {
   "cell_type": "code",
   "execution_count": 2,
   "id": "549d2376",
   "metadata": {},
   "outputs": [
    {
     "name": "stdout",
     "output_type": "stream",
     "text": [
      "The reversed string is:  dcba4321\n"
     ]
    }
   ],
   "source": [
    "s = \"1234abcd\"\n",
    "reverse_s = reverse(s)      #function calling\n",
    "print(\"The reversed string is: \", reverse_s)"
   ]
  }
 ],
 "metadata": {
  "kernelspec": {
   "display_name": "Python 3",
   "language": "python",
   "name": "python3"
  },
  "language_info": {
   "codemirror_mode": {
    "name": "ipython",
    "version": 3
   },
   "file_extension": ".py",
   "mimetype": "text/x-python",
   "name": "python",
   "nbconvert_exporter": "python",
   "pygments_lexer": "ipython3",
   "version": "3.8.8"
  }
 },
 "nbformat": 4,
 "nbformat_minor": 5
}
